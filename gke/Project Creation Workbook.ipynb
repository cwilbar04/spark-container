{
 "cells": [
  {
   "cell_type": "markdown",
   "id": "compact-currency",
   "metadata": {},
   "source": [
    "# Google Cloud Platform Project Creation Workbook \n",
    " \n",
    "Use this workbook to create a google cloud project with everything needed to collect new data and host your own web app. \n",
    " \n",
    "Prerequisites:  \n",
    "+ Create Google user account  <br><br>\n",
    "+ Create your own personal Google Cloud Project and Enable Billing\n",
    "    - Enable Free Tier account by seleting \"Try it Free\" here: [Try Google Cloud Platform for free](https://cloud.google.com/cloud-console)\n",
    "    - Follow steps to activate billing found here: [Create New Billing Account](https://cloud.google.com/billing/docs/how-to/manage-billing-account#create_a_new_billing_account)\n",
    "        - Billing account is required for APIs used in this project\n",
    "        - You will not exceed the $300 free trial setting up this project but make sure to delete the project if you do not want to be charged\n",
    "        - Take note of project name created because this billing account will be used with the new project <br><br>\n",
    "+ Install and initialize Google Cloud SDK by following instructions found here: [Cloud SDK Quickstart](https://cloud.google.com/sdk/docs/quickstart) <br><br>"
   ]
  },
  {
   "cell_type": "markdown",
   "id": "invisible-kansas",
   "metadata": {},
   "source": [
    "## Step 1 - Check Prequisites Successfully Completed\n",
    "Check that you have successfully installed and enabled Cloud SDK by running the config list command. If you get an error please refer to Troubleshooting steps found here [Cloud SDK Quickstart](https://cloud.google.com/sdk/docs/quickstart).  \n",
    "You should see an output that includes your account along with any other configuration setup when using gcloud init"
   ]
  },
  {
   "cell_type": "code",
   "execution_count": null,
   "id": "junior-insurance",
   "metadata": {},
   "outputs": [],
   "source": [
    "!gcloud config list"
   ]
  },
  {
   "cell_type": "code",
   "execution_count": null,
   "id": "5a37d5e7-4bbf-4c46-8ca7-027a1ab2008a",
   "metadata": {},
   "outputs": [],
   "source": [
    "#!gcloud auth login"
   ]
  },
  {
   "cell_type": "markdown",
   "id": "united-cooperation",
   "metadata": {},
   "source": [
    "## Step 2 - Create GCP Project"
   ]
  },
  {
   "cell_type": "code",
   "execution_count": null,
   "id": "prescription-yorkshire",
   "metadata": {},
   "outputs": [],
   "source": [
    "###### TO DO: Enter name for new project\n",
    "###### Note: Proect name must be unique across GCP. If you get error when creating project please change the project name here and try again.\n",
    "\n",
    "new_project_id = 'spark-container-testing-5'"
   ]
  },
  {
   "cell_type": "code",
   "execution_count": null,
   "id": "local-hollow",
   "metadata": {},
   "outputs": [],
   "source": [
    "!gcloud projects create {new_project_id}"
   ]
  },
  {
   "cell_type": "code",
   "execution_count": null,
   "id": "e76a11c3-888c-4fe4-b65a-1071443c6c95",
   "metadata": {},
   "outputs": [],
   "source": [
    "!gcloud config set project {new_project_id}"
   ]
  },
  {
   "cell_type": "markdown",
   "id": "familiar-teacher",
   "metadata": {},
   "source": [
    "#### IMPORTANT\n",
    "*****TO DO: Navigate to [Cloud Console](https://console.cloud.google.com/), Change to new project, and enable billing following instructions found here: [Enable Billing](https://cloud.google.com/billing/docs/how-to/modify-project#enable_billing_for_a_project)***\n"
   ]
  },
  {
   "cell_type": "markdown",
   "id": "boring-prediction",
   "metadata": {},
   "source": [
    "## Step 3 - Enable Necessary Cloud Services\n",
    "\n",
    "This project uses:\n",
    "+ Google Kubernetes Engine for a kubernetes cluster manager\n",
    "+ Google Container Registry to store spark Docker container images\n",
    "  \n",
    "List below contains all services needed at time of creation of this workbook. Please add/remove from this list if the names/necessary services have changed."
   ]
  },
  {
   "cell_type": "code",
   "execution_count": null,
   "id": "hourly-communications",
   "metadata": {},
   "outputs": [],
   "source": [
    "enable_services_list = [\n",
    "    'bigquery.googleapis.com',\n",
    "    'bigquerystorage.googleapis.com',\n",
    "    'cloudapis.googleapis.com',\n",
    "    'cloudbuild.googleapis.com',\n",
    "    'clouddebugger.googleapis.com',\n",
    "    'cloudtrace.googleapis.com',\n",
    "    'compute.googleapis.com',\n",
    "    'container.googleapis.com',\n",
    "    'containeranalysis.googleapis.com',\n",
    "    'containerregistry.googleapis.com',\n",
    "    'iam.googleapis.com ',\n",
    "    'iamcredentials.googleapis.com ',\n",
    "    'language.googleapis.com',\n",
    "    'oslogin.googleapis.com',\n",
    "    'servicemanagement.googleapis.com',\n",
    "    'serviceusage.googleapis.com',\n",
    "    'sql-component.googleapis.com',\n",
    "    'storage-api.googleapis.com',\n",
    "    'storage-component.googleapis.com',\n",
    "    'storage.googleapis.com'    \n",
    "]"
   ]
  },
  {
   "cell_type": "code",
   "execution_count": null,
   "id": "touched-poverty",
   "metadata": {},
   "outputs": [],
   "source": [
    "## Services can only be enabled 20 at a time at the time of workbook creation. Use this loop to enable 20 at a time.\n",
    "for x in range(0,len(enable_services_list),20):\n",
    "    !gcloud services enable {' '.join(enable_services_list[x:(x+20)])} --project={new_project_id}   "
   ]
  },
  {
   "cell_type": "code",
   "execution_count": null,
   "id": "suspended-politics",
   "metadata": {},
   "outputs": [],
   "source": [
    "# Check that services were enabled\n",
    "!gcloud services list --project={new_project_id}"
   ]
  },
  {
   "cell_type": "markdown",
   "id": "confused-recipient",
   "metadata": {},
   "source": [
    "## Step 4 - Create Necessary Service Accounts\n",
    "\n",
    "There are two primary service accounts used in this project:  \n",
    "- **Deployment Service Account**\n",
    "    - We create this and add necessary roles below using the Cloud SDK\n",
    "    - deployer-sa@your_project_name.iam.gserviceaccount.com\n",
    "    - This account is used to deploy and test docker container and kubernetes cluster<br><br>\n",
    "- **BigQuery Service Account**\n",
    "    - We create this and add necessary roles below using the Cloud SDK\n",
    "    - bigquery-sa@your_project_name.iam.gserviceaccount.com\n",
    "    - This account is used in the container for access to big query"
   ]
  },
  {
   "cell_type": "markdown",
   "id": "ordinary-climate",
   "metadata": {},
   "source": [
    "Check what service ccounts are already created (should be the two default ones described above)"
   ]
  },
  {
   "cell_type": "code",
   "execution_count": null,
   "id": "joint-trinity",
   "metadata": {},
   "outputs": [],
   "source": [
    "!gcloud iam service-accounts list --project={new_project_id}"
   ]
  },
  {
   "cell_type": "code",
   "execution_count": null,
   "id": "marked-costs",
   "metadata": {},
   "outputs": [],
   "source": [
    "!gcloud iam service-accounts create deployer-sa \\\n",
    "    --display-name=\"Deployment Service Account\" \\\n",
    "    --description=\"Account used to deploy to Google Cloud Project\" \\\n",
    "    --project={new_project_id}"
   ]
  },
  {
   "cell_type": "code",
   "execution_count": null,
   "id": "graphic-juice",
   "metadata": {},
   "outputs": [],
   "source": [
    "!gcloud iam service-accounts create bigquery-sa \\\n",
    "    --display-name=\"BigQuery Service Account\" \\\n",
    "    --description=\"Account used by Spark Containers to Connect to BigQuery\" \\\n",
    "    --project={new_project_id}"
   ]
  },
  {
   "cell_type": "markdown",
   "id": "charged-junior",
   "metadata": {},
   "source": [
    "Check service accounts were created successfully"
   ]
  },
  {
   "cell_type": "code",
   "execution_count": null,
   "id": "attended-cattle",
   "metadata": {},
   "outputs": [],
   "source": [
    "!gcloud iam service-accounts list --project={new_project_id}"
   ]
  },
  {
   "cell_type": "markdown",
   "id": "electrical-collect",
   "metadata": {},
   "source": [
    "Programatically update the roles for the new service accounts using the guide found here: [Programatic Change Access](https://cloud.google.com/iam/docs/granting-changing-revoking-access#programmatic)"
   ]
  },
  {
   "cell_type": "code",
   "execution_count": null,
   "id": "useful-hurricane",
   "metadata": {},
   "outputs": [],
   "source": [
    "# Save policy file in directory above where the repo is saved so that it is not stored to github\n",
    "file_directory = '..\\..\\policy.json'"
   ]
  },
  {
   "cell_type": "code",
   "execution_count": null,
   "id": "golden-congo",
   "metadata": {},
   "outputs": [],
   "source": [
    "# Write current policy to file directory\n",
    "!gcloud projects get-iam-policy {new_project_id} --format json > {file_directory}"
   ]
  },
  {
   "cell_type": "markdown",
   "id": "equivalent-bundle",
   "metadata": {},
   "source": [
    "**If running jupyter notebook run below cell to load and modify policy file.**"
   ]
  },
  {
   "cell_type": "code",
   "execution_count": null,
   "id": "express-exchange",
   "metadata": {},
   "outputs": [],
   "source": [
    "import json\n",
    "\n",
    "with open('..\\..\\policy.json') as f:\n",
    "    policy = json.load(f)\n",
    "\n",
    "def modify_policy_add_role(policy, role, member):\n",
    "    \"\"\"Adds a new role binding to a policy.\"\"\"\n",
    "\n",
    "    binding = {\"members\": [member],\"role\": role }\n",
    "    policy[\"bindings\"].append(binding)\n",
    "    return policy\n",
    "\n",
    "members = [f'serviceAccount:deployer-sa@{new_project_id}.iam.gserviceaccount.com', \n",
    "           f'serviceAccount:bigquery-sa@{new_project_id}.iam.gserviceaccount.com']\n",
    "roles = {\n",
    "        members[0]:['roles/editor'],\n",
    "        members[1]:['roles/bigquery.dataEditor','roles/run.serviceAgent', 'roles/bigquery.user',\n",
    "                    'roles/storage.admin']}\n",
    "\n",
    "for member in members:\n",
    "    for role in roles[member]:\n",
    "        policy = modify_policy_add_role(policy, role, member)\n",
    "\n",
    "with open('..\\..\\policy.json', 'w') as json_file:\n",
    "    json.dump(policy, json_file)"
   ]
  },
  {
   "cell_type": "code",
   "execution_count": null,
   "id": "opening-command",
   "metadata": {},
   "outputs": [],
   "source": [
    "!gcloud projects set-iam-policy {new_project_id} {file_directory}"
   ]
  },
  {
   "cell_type": "code",
   "execution_count": null,
   "id": "governmental-nerve",
   "metadata": {},
   "outputs": [],
   "source": [
    "# Remove policy file \n",
    "!del {file_directory}"
   ]
  },
  {
   "cell_type": "markdown",
   "id": "adverse-hierarchy",
   "metadata": {},
   "source": [
    "## Step 5 - Create Kubernetes Engine Cluster\n",
    "\n",
    "In order to deploy a container to kubernetes to run an application you first need to create a kubernetes engine cluster"
   ]
  },
  {
   "cell_type": "code",
   "execution_count": null,
   "id": "wanted-acting",
   "metadata": {},
   "outputs": [],
   "source": [
    "## TO DO: Change region  to your default region\n",
    "COMPUTE_REGION = 'us-central1'\n",
    "CLUSTER_NAME = 'spark-cluster'\n",
    "COMPUTE_ZONE = 'us-central1-c'"
   ]
  },
  {
   "cell_type": "code",
   "execution_count": null,
   "id": "b9a0ea5c-e21f-44f7-8a4e-c860addfda8d",
   "metadata": {},
   "outputs": [],
   "source": [
    "#!gcloud compute regions list"
   ]
  },
  {
   "cell_type": "code",
   "execution_count": null,
   "id": "54668c69-81c1-4f6f-9f2b-32a1876f7449",
   "metadata": {},
   "outputs": [],
   "source": [
    "!gcloud config set compute/region {COMPUTE_REGION}"
   ]
  },
  {
   "cell_type": "code",
   "execution_count": null,
   "id": "6d28174a-6abb-4b05-94b1-2d74673d14b3",
   "metadata": {},
   "outputs": [],
   "source": [
    "!gcloud config set compute/zone {COMPUTE_ZONE}"
   ]
  },
  {
   "cell_type": "code",
   "execution_count": null,
   "id": "36a14f55-1192-40f4-a028-f642d2705973",
   "metadata": {},
   "outputs": [],
   "source": [
    "# Create cluster with default settings. This may take serveral minutes\n",
    "!gcloud container clusters create {CLUSTER_NAME} \\\n",
    "    --project={new_project_id}"
   ]
  },
  {
   "cell_type": "code",
   "execution_count": null,
   "id": "5e2def4f-291f-40d1-b0f1-e3603cf5ee75",
   "metadata": {},
   "outputs": [],
   "source": [
    "# Get credentials to use when deploying to cluster\n",
    "!gcloud container clusters get-credentials {CLUSTER_NAME}"
   ]
  },
  {
   "cell_type": "code",
   "execution_count": null,
   "id": "9bbd6f08-dd35-45fa-8c90-0fb8bf2f2d12",
   "metadata": {},
   "outputs": [],
   "source": [
    "account = f'bigquery-sa@{new_project_id}.iam.gserviceaccount.com' "
   ]
  },
  {
   "cell_type": "code",
   "execution_count": null,
   "id": "c3cb2bb8-eea8-4795-a21a-c69bf6b320d2",
   "metadata": {},
   "outputs": [],
   "source": [
    "# Download bigquery service account json file\n",
    "!gcloud iam service-accounts keys create sa.json \\\n",
    "    --iam-account={account}"
   ]
  },
  {
   "cell_type": "code",
   "execution_count": null,
   "id": "9dc2fc8d-2315-4326-bbb1-702db5e20fe5",
   "metadata": {},
   "outputs": [],
   "source": [
    "# Create Kubernetes Secret from file\n",
    "!kubectl create secret generic bigquery-credentials \\\n",
    "  --from-file ./sa.json"
   ]
  },
  {
   "cell_type": "code",
   "execution_count": null,
   "id": "9328d722-4fab-4815-badf-d8cdcda64615",
   "metadata": {},
   "outputs": [],
   "source": [
    "# Remove servie account file from local system now that Kubernetes Secret\n",
    "!del sa.json"
   ]
  },
  {
   "cell_type": "markdown",
   "id": "confidential-inspection",
   "metadata": {},
   "source": [
    "## Step 6 - Create BigQuery Dataset\n",
    "\n",
    "Your new project will need a dataset to store the data if you plan on copying/creating your own repository of data.  \n",
    "\n",
    "This has to be a unique name per project.  \n",
    "\n",
    "In my workflows I have named the dataset 'nba' but feel free to change it. Note that if you do change it, then you will also need to change the dataset name in any of the other python scripts in this project appropriately. "
   ]
  },
  {
   "cell_type": "code",
   "execution_count": null,
   "id": "empirical-provision",
   "metadata": {},
   "outputs": [],
   "source": [
    "dataset_name = 'amazon_reviews'"
   ]
  },
  {
   "cell_type": "code",
   "execution_count": null,
   "id": "marked-montana",
   "metadata": {},
   "outputs": [],
   "source": [
    "#Stop and re-run if this takes more than a minute\n",
    "!bq --location=US mk --dataset \\\n",
    "--description \"Stores transformed amazon review data orginally found at https://nijianmo.github.io/amazon/index.html\" \\\n",
    "{new_project_id}:{dataset_name}  "
   ]
  },
  {
   "cell_type": "markdown",
   "id": "parallel-missouri",
   "metadata": {},
   "source": [
    "## Step 7 - Build and Push Container to GCR\n",
    "\n"
   ]
  },
  {
   "cell_type": "code",
   "execution_count": null,
   "id": "congressional-sullivan",
   "metadata": {
    "tags": []
   },
   "outputs": [],
   "source": [
    "!docker build -t client-mode-spark-notebook ../client-mode"
   ]
  },
  {
   "cell_type": "code",
   "execution_count": null,
   "id": "4a8b079a-c3a4-48eb-bd18-7ba651f6174a",
   "metadata": {
    "tags": []
   },
   "outputs": [],
   "source": [
    "!docker tag client-mode-spark-notebook:latest gcr.io/{new_project_id}/client-mode-spark-notebook:latest"
   ]
  },
  {
   "cell_type": "code",
   "execution_count": null,
   "id": "38606448-d0e9-4b90-91a1-48e190ca570f",
   "metadata": {
    "tags": []
   },
   "outputs": [],
   "source": [
    "!docker push gcr.io/{new_project_id}/client-mode-spark-notebook:latest"
   ]
  },
  {
   "cell_type": "markdown",
   "id": "contrary-sheep",
   "metadata": {},
   "source": [
    "## Step 8 - Deploy App to Cluster and Expose\n"
   ]
  },
  {
   "cell_type": "code",
   "execution_count": null,
   "id": "39f73d4f-a3b8-4cb0-882c-8329d3b624d7",
   "metadata": {},
   "outputs": [],
   "source": [
    "APP_NAME = 'spark-server'"
   ]
  },
  {
   "cell_type": "code",
   "execution_count": null,
   "id": "ca3480d5-822b-4eab-bab4-2ac09cf75ba2",
   "metadata": {},
   "outputs": [],
   "source": [
    "template = f'''\n",
    "apiVersion: apps/v1\n",
    "kind: Deployment\n",
    "metadata:\n",
    "  name: spark-server\n",
    "  labels:\n",
    "    app: spark-server\n",
    "spec:\n",
    "  replicas: 1\n",
    "  selector:\n",
    "    matchLabels:\n",
    "      app: spark-server\n",
    "  template:\n",
    "    metadata:\n",
    "      labels:\n",
    "        app: spark-server\n",
    "    spec:\n",
    "      # The secret data is exposed to Containers in the Pod through a Volume.\n",
    "      volumes:\n",
    "      - name: secret-volume\n",
    "        secret:\n",
    "          secretName: bigquery-credentials\n",
    "      containers:\n",
    "      - image: gcr.io/{new_project_id}/client-mode-spark-notebook:latest\n",
    "        name: client-mode-spark-notebook\n",
    "        volumeMounts:\n",
    "          # name must match the volume name below\n",
    "          - name: secret-volume\n",
    "            mountPath: /var/secrets/google    \n",
    "'''"
   ]
  },
  {
   "cell_type": "code",
   "execution_count": null,
   "id": "55ab4703-80e1-495b-bf90-3e5b16bc6111",
   "metadata": {},
   "outputs": [],
   "source": [
    "with open('deployment.yaml', 'w') as file:\n",
    "    file.write(template)  "
   ]
  },
  {
   "cell_type": "code",
   "execution_count": null,
   "id": "4b601920-db48-4ad0-8a93-a437651ff7b3",
   "metadata": {},
   "outputs": [],
   "source": [
    "# !kubectl create deployment {APP_NAME} --save_config=true --image=gcr.io/{new_project_id}/client-mode-spark-notebook:latest --template={template} "
   ]
  },
  {
   "cell_type": "code",
   "execution_count": null,
   "id": "f6142df1-d9dc-4aea-8759-65ab49fb1d3f",
   "metadata": {},
   "outputs": [],
   "source": [
    "# !kubectl delete deployment {APP_NAME}"
   ]
  },
  {
   "cell_type": "code",
   "execution_count": null,
   "id": "e52d1c22-49fa-4e9a-9003-23186eac006f",
   "metadata": {},
   "outputs": [],
   "source": [
    "!kubectl apply -f deployment.yaml"
   ]
  },
  {
   "cell_type": "code",
   "execution_count": null,
   "id": "06769385-3d31-42f7-a396-665de5883c3a",
   "metadata": {},
   "outputs": [],
   "source": [
    "!kubectl expose deployment {APP_NAME} --type LoadBalancer --port 80 --target-port 8888"
   ]
  },
  {
   "cell_type": "code",
   "execution_count": null,
   "id": "66474e86-f879-4b5c-8a74-7df932aea7f3",
   "metadata": {},
   "outputs": [],
   "source": [
    "!kubectl describe services"
   ]
  },
  {
   "cell_type": "markdown",
   "id": "expected-chest",
   "metadata": {},
   "source": [
    "## Step 9 - Create Cloud Storage Bucket\n",
    "\n",
    "In order to load data to BigQuery with Spark we need a temporary Cloud Storage Bucket we create below.\n",
    "\n",
    "Bucket names must be globally unique so we include the project name.\n",
    "\n",
    "When running the Jupyter Notebook to load the data you will have to set the project ID so that it uses this bucket."
   ]
  },
  {
   "cell_type": "code",
   "execution_count": null,
   "id": "d3034f89-fdb9-4d99-9da7-9120169e8e20",
   "metadata": {},
   "outputs": [],
   "source": [
    "!gsutil mb gs://amazon_reviews_bucket-{new_project_id}"
   ]
  },
  {
   "cell_type": "markdown",
   "id": "underlying-aberdeen",
   "metadata": {},
   "source": [
    "## Optional - Delete Project\n",
    "\n",
    "To avoid on-going charges for everything created in this workbook run the below command to delete the project that you just created. Note it will take approximately 30 days for full completion and you will stil be charged for any charges accrued during this walkthrough. Check out [Deleting GCP Project](https://cloud.google.com/resource-manager/docs/creating-managing-projects?visit_id=637510410447506984-2569255859&rd=1#shutting_down_projects) for more information."
   ]
  },
  {
   "cell_type": "code",
   "execution_count": null,
   "id": "surprised-tampa",
   "metadata": {},
   "outputs": [],
   "source": [
    "### Uncomment code to delete project\n",
    "!gcloud projects delete {new_project_id}"
   ]
  },
  {
   "cell_type": "code",
   "execution_count": null,
   "id": "martial-southwest",
   "metadata": {},
   "outputs": [],
   "source": []
  }
 ],
 "metadata": {
  "kernelspec": {
   "display_name": "Python 3",
   "language": "python",
   "name": "python3"
  },
  "language_info": {
   "codemirror_mode": {
    "name": "ipython",
    "version": 3
   },
   "file_extension": ".py",
   "mimetype": "text/x-python",
   "name": "python",
   "nbconvert_exporter": "python",
   "pygments_lexer": "ipython3",
   "version": "3.9.1"
  }
 },
 "nbformat": 4,
 "nbformat_minor": 5
}
