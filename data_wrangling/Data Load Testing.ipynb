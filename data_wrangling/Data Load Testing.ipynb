{
 "cells": [
  {
   "cell_type": "code",
   "execution_count": 3,
   "id": "caa4a07d",
   "metadata": {},
   "outputs": [],
   "source": [
    "#%env GOOGLE_APPLICATION_CREDENTIALS=/home/pitfox/data/spark-container-dev-f5d53ab2439c.json"
   ]
  },
  {
   "cell_type": "code",
   "execution_count": 4,
   "id": "cb04f2ba",
   "metadata": {},
   "outputs": [
    {
     "name": "stdout",
     "output_type": "stream",
     "text": [
      "/home/pitfox/data/spark-container-dev-f5d53ab2439c.json\r\n"
     ]
    }
   ],
   "source": [
    "!echo $GOOGLE_APPLICATION_CREDENTIALS"
   ]
  },
  {
   "cell_type": "code",
   "execution_count": 5,
   "id": "43c1c62e",
   "metadata": {},
   "outputs": [
    {
     "name": "stdout",
     "output_type": "stream",
     "text": [
      "/opt/spark\r\n"
     ]
    }
   ],
   "source": [
    "!echo $SPARK_HOME"
   ]
  },
  {
   "cell_type": "code",
   "execution_count": 6,
   "id": "dbfc58c5",
   "metadata": {},
   "outputs": [
    {
     "name": "stdout",
     "output_type": "stream",
     "text": [
      "#\r\n",
      "# Licensed to the Apache Software Foundation (ASF) under one or more\r\n",
      "# contributor license agreements.  See the NOTICE file distributed with\r\n",
      "# this work for additional information regarding copyright ownership.\r\n",
      "# The ASF licenses this file to You under the Apache License, Version 2.0\r\n",
      "# (the \"License\"); you may not use this file except in compliance with\r\n",
      "# the License.  You may obtain a copy of the License at\r\n",
      "#\r\n",
      "#    http://www.apache.org/licenses/LICENSE-2.0\r\n",
      "#\r\n",
      "# Unless required by applicable law or agreed to in writing, software\r\n",
      "# distributed under the License is distributed on an \"AS IS\" BASIS,\r\n",
      "# WITHOUT WARRANTIES OR CONDITIONS OF ANY KIND, either express or implied.\r\n",
      "# See the License for the specific language governing permissions and\r\n",
      "# limitations under the License.\r\n",
      "#\r\n",
      "\r\n",
      "# Default system properties included when running spark-submit.\r\n",
      "# This is useful for setting default environmental settings.\r\n",
      "\r\n",
      "# Example:\r\n",
      "# spark.master                     spark://master:7077\r\n",
      "# spark.eventLog.enabled           true\r\n",
      "# spark.eventLog.dir               hdfs://namenode:8021/directory\r\n",
      "# spark.serializer                 org.apache.spark.serializer.KryoSerializer\r\n",
      "# spark.driver.memory              5g\r\n",
      "# spark.executor.extraJavaOptions  -XX:+PrintGCDetails -Dkey=value -Dnumbers=\"one two three\"\r\n",
      "spark.hadoop.google.cloud.auth.service.account.enable true\r\n",
      "spark.hadoop.google.cloud.auth.service.account.json.keyfile /home/pitfox/data/spark-container-dev-f5d53ab2439c.json\r\n",
      "spark.hadoop.fs.gs.AbstractFilePath.impl com.google.cloud.hadoop.fs.gcs.GoogleHadoopFS\r\n"
     ]
    }
   ],
   "source": [
    "!cat $SPARK_HOME/conf/spark-defaults.conf"
   ]
  },
  {
   "cell_type": "code",
   "execution_count": 1,
   "id": "7d84d225",
   "metadata": {},
   "outputs": [],
   "source": [
    "import findspark\n",
    "findspark.init()\n",
    "\n",
    "from pyspark.sql import SparkSession\n",
    "from pyspark import SparkFiles\n",
    "import pyspark.sql.functions as f\n",
    "import re"
   ]
  },
  {
   "cell_type": "code",
   "execution_count": 2,
   "id": "74012450",
   "metadata": {},
   "outputs": [],
   "source": [
    "#spark.stop()"
   ]
  },
  {
   "cell_type": "code",
   "execution_count": 3,
   "id": "078ee7af",
   "metadata": {},
   "outputs": [],
   "source": [
    "spark = SparkSession \\\n",
    "    .builder \\\n",
    "    .appName(\"My App\") \\\n",
    "    .config(\"spark.jars\", \"/opt/spark/jars/spark-bigquery-with-dependencies_2.12-0.20.0.jar\") \\\n",
    "    .getOrCreate()"
   ]
  },
  {
   "cell_type": "code",
   "execution_count": 4,
   "id": "e9de3fa7",
   "metadata": {},
   "outputs": [],
   "source": [
    "# spark.sparkContext._jvm.scala.util.Properties.versionString()"
   ]
  },
  {
   "cell_type": "code",
   "execution_count": 27,
   "id": "45d0bcb7",
   "metadata": {},
   "outputs": [],
   "source": [
    "category = ['AMAZON_FASHION','All_Beauty']"
   ]
  },
  {
   "cell_type": "code",
   "execution_count": 28,
   "id": "4aacc6e5",
   "metadata": {},
   "outputs": [],
   "source": [
    "url = f\"http://deepyeti.ucsd.edu/jianmo/amazon/categoryFilesSmall/{category[1]}_5.json.gz\""
   ]
  },
  {
   "cell_type": "code",
   "execution_count": 29,
   "id": "ff611a5f",
   "metadata": {},
   "outputs": [],
   "source": [
    "spark.sparkContext.addFile(url)"
   ]
  },
  {
   "cell_type": "code",
   "execution_count": 30,
   "id": "97d48f00",
   "metadata": {},
   "outputs": [],
   "source": [
    "df = spark.read.json(\"file://\"+SparkFiles.get(f\"{category[1]}_5.json.gz\"))"
   ]
  },
  {
   "cell_type": "code",
   "execution_count": 31,
   "id": "bd97e7c6",
   "metadata": {},
   "outputs": [
    {
     "name": "stdout",
     "output_type": "stream",
     "text": [
      "root\n",
      " |-- asin: string (nullable = true)\n",
      " |-- image: array (nullable = true)\n",
      " |    |-- element: string (containsNull = true)\n",
      " |-- overall: double (nullable = true)\n",
      " |-- reviewText: string (nullable = true)\n",
      " |-- reviewTime: string (nullable = true)\n",
      " |-- reviewerID: string (nullable = true)\n",
      " |-- reviewerName: string (nullable = true)\n",
      " |-- style: struct (nullable = true)\n",
      " |    |-- Color:: string (nullable = true)\n",
      " |    |-- Design:: string (nullable = true)\n",
      " |    |-- Flavor:: string (nullable = true)\n",
      " |    |-- Scent Name:: string (nullable = true)\n",
      " |    |-- Size:: string (nullable = true)\n",
      " |    |-- Style Name:: string (nullable = true)\n",
      " |-- summary: string (nullable = true)\n",
      " |-- unixReviewTime: long (nullable = true)\n",
      " |-- verified: boolean (nullable = true)\n",
      " |-- vote: string (nullable = true)\n",
      "\n"
     ]
    }
   ],
   "source": [
    "df.printSchema()"
   ]
  },
  {
   "cell_type": "code",
   "execution_count": 32,
   "id": "48eb6fcb",
   "metadata": {},
   "outputs": [
    {
     "name": "stdout",
     "output_type": "stream",
     "text": [
      "+----------+-----+-------+--------------------+-----------+--------------+--------------------+--------------------+--------------------+--------------+--------+----+\n",
      "|      asin|image|overall|          reviewText| reviewTime|    reviewerID|        reviewerName|               style|             summary|unixReviewTime|verified|vote|\n",
      "+----------+-----+-------+--------------------+-----------+--------------+--------------------+--------------------+--------------------+--------------+--------+----+\n",
      "|B0000530HU| null|    5.0|As advertised. Re...| 09 1, 2016|A3CIUOJXQ5VDQ2|            Shelly F|{null, null,  Cla...|          Five Stars|    1472688000|    true|null|\n",
      "|B0000530HU| null|    5.0|Like the oder and...|11 14, 2013|A3H7T87S984REU|        houserules18|{null, null,  Cla...|   Good for the face|    1384387200|    true|null|\n",
      "|B0000530HU| null|    1.0|I bought this to ...|08 18, 2013|A3J034YH7UG4KT|                Adam|{null, null,  Cla...|        Smells awful|    1376784000|    true|null|\n",
      "|B0000530HU| null|    5.0|HEY!! I am an Aqu...| 05 3, 2011|A2UEO5XR3598GI|              Rich K|{null, null,  Cla...|Truth is There IS...|    1304380800|   false|  25|\n",
      "|B00006L9LC| null|    5.0|If you ever want ...| 05 6, 2011|A3SFRT223XXWF7|     C. C. Christian|{null, null, null...|     Bvlgari Shampoo|    1304640000|    true|   3|\n",
      "|B00006L9LC| null|    5.0|If you know the s...|05 16, 2010|A24HQ2N7332W7W|Kindle Customer J...|{null, null, null...|    Diva is Heavenly|    1273968000|   false|null|\n",
      "|B00006L9LC| null|    5.0|Got this shampoo ...| 05 7, 2018|A2G90R2ZU6KU5D|                Mike|{null, null, null...|Outstanding, no c...|    1525651200|   false|null|\n",
      "|B00006L9LC| null|    2.0|No change my scal...| 05 7, 2018|A24W4W9E62FZP2|                 Reb|{null, null, null...|No change my scal...|    1525651200|    true|null|\n",
      "|B00006L9LC| null|    1.0|Too expensive for...| 05 6, 2018| A7ID5H7FWLJHC|               U. V.|{null, null, null...|Too expensive for...|    1525564800|    true|null|\n",
      "|B00006L9LC| null|    1.0|It dries my hair,...| 05 6, 2018| AYKOSAJTP5AVS|     Senthil Kumar M|{null, null, null...|Dries my hair, do...|    1525564800|    true|null|\n",
      "+----------+-----+-------+--------------------+-----------+--------------+--------------------+--------------------+--------------------+--------------+--------+----+\n",
      "only showing top 10 rows\n",
      "\n"
     ]
    }
   ],
   "source": [
    "df.show(10)"
   ]
  },
  {
   "cell_type": "code",
   "execution_count": 33,
   "id": "025b3e95",
   "metadata": {},
   "outputs": [],
   "source": [
    "df = df.dropDuplicates() "
   ]
  },
  {
   "cell_type": "code",
   "execution_count": 34,
   "id": "b1dd368e",
   "metadata": {},
   "outputs": [],
   "source": [
    "df = df.withColumn('review_wordCount', f.size(f.split(f.col('reviewText'), ' ')))"
   ]
  },
  {
   "cell_type": "code",
   "execution_count": 35,
   "id": "c32bef10",
   "metadata": {},
   "outputs": [],
   "source": [
    "df.registerTempTable(\"dataframe\")"
   ]
  },
  {
   "cell_type": "code",
   "execution_count": 39,
   "id": "8a4d7edf",
   "metadata": {},
   "outputs": [],
   "source": [
    "sql_script = f\"\"\"select \n",
    "          '{category[1]}' as category,\n",
    "          asin || '-' || reviewerID || row_number() OVER (PARTITION BY asin, reviewerID ORDER BY unixReviewTime asc) as review_ID,\n",
    "          asin as product_ID,\n",
    "          reviewerID as reviewer_ID,\n",
    "          overall as rating_out_of_5,\n",
    "          summary as review_summary,\n",
    "          reviewText as review_text,\n",
    "          review_wordCount as review_word_count,     \n",
    "          '{url}' as source_url\n",
    "        from dataframe\"\"\""
   ]
  },
  {
   "cell_type": "code",
   "execution_count": 40,
   "id": "97d3541c",
   "metadata": {},
   "outputs": [],
   "source": [
    "output = spark.sql(sql_script)"
   ]
  },
  {
   "cell_type": "code",
   "execution_count": 41,
   "id": "693d375a",
   "metadata": {},
   "outputs": [
    {
     "name": "stdout",
     "output_type": "stream",
     "text": [
      "+----------+--------------------+----------+--------------+---------------+--------------+--------------------+-----------------+--------------------+\n",
      "|  category|           review_ID|product_ID|   reviewer_ID|rating_out_of_5|review_summary|         review_text|review_word_count|          source_url|\n",
      "+----------+--------------------+----------+--------------+---------------+--------------+--------------------+-----------------+--------------------+\n",
      "|All_Beauty|B00006L9LC-A1WMNC...|B00006L9LC|A1WMNCCFKM2A4Z|            5.0|    Five Stars|Great product gre...|                4|http://deepyeti.u...|\n",
      "|All_Beauty|B00006L9LC-A1Z14Z...|B00006L9LC|A1Z14Z7HOM429U|            5.0|    Five Stars|Yeah, the huge si...|               13|http://deepyeti.u...|\n",
      "|All_Beauty|B00006L9LC-A3CFIN...|B00006L9LC|A3CFINYERTHF9Q|            5.0|    Five Stars|       Great shampoo|                2|http://deepyeti.u...|\n",
      "+----------+--------------------+----------+--------------+---------------+--------------+--------------------+-----------------+--------------------+\n",
      "only showing top 3 rows\n",
      "\n"
     ]
    }
   ],
   "source": [
    "output.show(3)"
   ]
  },
  {
   "cell_type": "code",
   "execution_count": 42,
   "id": "df91a1f8",
   "metadata": {},
   "outputs": [],
   "source": [
    "# Update to your GCS bucket\n",
    "gcs_bucket = f'amazon_reviews_bucket'\n",
    "\n",
    "gcs_filepath = f'gs://amazon_reviews_bucket'"
   ]
  },
  {
   "cell_type": "code",
   "execution_count": 43,
   "id": "8fb59b96",
   "metadata": {},
   "outputs": [],
   "source": [
    "output.write \\\n",
    "  .format(\"bigquery\") \\\n",
    "  .option(\"temporaryGcsBucket\",gcs_bucket) \\\n",
    "  .mode(\"append\") \\\n",
    "  .save(\"amazon_reviews.categoryFilesSmall\")"
   ]
  },
  {
   "cell_type": "code",
   "execution_count": 44,
   "id": "dd32dbfa",
   "metadata": {},
   "outputs": [],
   "source": [
    "# output.write.partitionBy(\"product_ID\").csv(gcs_filepath)"
   ]
  },
  {
   "cell_type": "code",
   "execution_count": 45,
   "id": "e575b2d2",
   "metadata": {},
   "outputs": [],
   "source": [
    "# output.write \\\n",
    "#   .mode('overwrite') \\\n",
    "#   .csv(gcs_filepath)"
   ]
  },
  {
   "cell_type": "code",
   "execution_count": null,
   "id": "b8905636",
   "metadata": {},
   "outputs": [],
   "source": []
  },
  {
   "cell_type": "code",
   "execution_count": null,
   "id": "8eabf8d2",
   "metadata": {},
   "outputs": [],
   "source": []
  }
 ],
 "metadata": {
  "kernelspec": {
   "display_name": "Python 3",
   "language": "python",
   "name": "python3"
  },
  "language_info": {
   "codemirror_mode": {
    "name": "ipython",
    "version": 3
   },
   "file_extension": ".py",
   "mimetype": "text/x-python",
   "name": "python",
   "nbconvert_exporter": "python",
   "pygments_lexer": "ipython3",
   "version": "3.8.5"
  }
 },
 "nbformat": 4,
 "nbformat_minor": 5
}
