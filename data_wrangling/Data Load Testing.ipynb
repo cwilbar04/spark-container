{
 "cells": [
  {
   "cell_type": "code",
   "execution_count": null,
   "id": "caa4a07d",
   "metadata": {},
   "outputs": [],
   "source": [
    "#%env GOOGLE_APPLICATION_CREDENTIALS=/home/pitfox/data/spark-container-dev-f5d53ab2439c.json"
   ]
  },
  {
   "cell_type": "code",
   "execution_count": null,
   "id": "cb04f2ba",
   "metadata": {},
   "outputs": [],
   "source": [
    "!echo $GOOGLE_APPLICATION_CREDENTIALS"
   ]
  },
  {
   "cell_type": "code",
   "execution_count": null,
   "id": "43c1c62e",
   "metadata": {},
   "outputs": [],
   "source": [
    "!echo $SPARK_HOME"
   ]
  },
  {
   "cell_type": "code",
   "execution_count": null,
   "id": "dbfc58c5",
   "metadata": {},
   "outputs": [],
   "source": [
    "!cat $SPARK_HOME/conf/spark-defaults.conf"
   ]
  },
  {
   "cell_type": "code",
   "execution_count": 1,
   "id": "7d84d225",
   "metadata": {},
   "outputs": [],
   "source": [
    "# import findspark\n",
    "# findspark.init()\n",
    "\n",
    "from pyspark.sql import SparkSession\n",
    "from pyspark import SparkFiles\n",
    "from pyspark.sql.types import StructType, StructField, StringType, DoubleType, BooleanType, ArrayType, LongType\n",
    "import pyspark.sql.functions as f\n",
    "import re\n",
    "import requests\n",
    "from bs4 import BeautifulSoup"
   ]
  },
  {
   "cell_type": "code",
   "execution_count": null,
   "id": "74012450",
   "metadata": {},
   "outputs": [],
   "source": [
    "#spark.stop()"
   ]
  },
  {
   "cell_type": "code",
   "execution_count": 2,
   "id": "078ee7af",
   "metadata": {},
   "outputs": [],
   "source": [
    "spark = SparkSession \\\n",
    "    .builder \\\n",
    "    .appName(\"Load Review Files\") \\\n",
    "    .config(\"spark.jars\", \"/opt/spark/jars/spark-bigquery-with-dependencies_2.12-0.20.0.jar\") \\\n",
    "    .getOrCreate()"
   ]
  },
  {
   "cell_type": "code",
   "execution_count": 3,
   "id": "21d42a59-7cee-4be3-97e8-97a149107f28",
   "metadata": {},
   "outputs": [],
   "source": [
    "# Update to your GCS bucket\n",
    "gcs_bucket = f'amazon_reviews_bucket'\n",
    "gcs_filepath = f'gs://amazon_reviews_bucket'"
   ]
  },
  {
   "cell_type": "code",
   "execution_count": 4,
   "id": "10e2ac26-1520-49d8-9f3c-05186c85cbaa",
   "metadata": {},
   "outputs": [],
   "source": [
    "# Define schema of files to parse\n",
    "schema = StructType([ \n",
    "    StructField(\"asin\",StringType(),True), \n",
    "    StructField(\"image\",ArrayType(StringType()),True), \n",
    "    StructField(\"overall\",DoubleType(),True),\n",
    "    StructField(\"reviewText\",StringType(),True),\n",
    "    StructField(\"reviewTime\",StringType(),True),\n",
    "    StructField(\"reviewerID\",StringType(),True),\n",
    "    StructField(\"reviewerName\",StringType(),True),\n",
    "    StructField(\"summary\",StringType(),True),\n",
    "    StructField(\"unixReviewTime\",LongType(),True),\n",
    "    StructField(\"verified\",BooleanType(),True),\n",
    "    StructField(\"vote\",StringType(),True)\n",
    "  ])"
   ]
  },
  {
   "cell_type": "code",
   "execution_count": null,
   "id": "78a0fcf8-cd5b-4491-898e-e6f39d5a428e",
   "metadata": {
    "tags": []
   },
   "outputs": [
    {
     "name": "stdout",
     "output_type": "stream",
     "text": [
      "http://deepyeti.ucsd.edu/jianmo/amazon/categoryFilesSmall/AMAZON_FASHION_5.json.gz\n",
      "AMAZON_FASHION_5.json.gz\n",
      "http://deepyeti.ucsd.edu/jianmo/amazon/categoryFilesSmall/All_Beauty_5.json.gz\n",
      "All_Beauty_5.json.gz\n",
      "http://deepyeti.ucsd.edu/jianmo/amazon/categoryFilesSmall/Appliances_5.json.gz\n",
      "Appliances_5.json.gz\n",
      "http://deepyeti.ucsd.edu/jianmo/amazon/categoryFilesSmall/Arts_Crafts_and_Sewing_5.json.gz\n",
      "Arts_Crafts_and_Sewing_5.json.gz\n",
      "http://deepyeti.ucsd.edu/jianmo/amazon/categoryFilesSmall/Automotive_5.json.gz\n",
      "Automotive_5.json.gz\n",
      "http://deepyeti.ucsd.edu/jianmo/amazon/categoryFilesSmall/Books_5.json.gz\n",
      "Books_5.json.gz\n",
      "http://deepyeti.ucsd.edu/jianmo/amazon/categoryFilesSmall/CDs_and_Vinyl_5.json.gz\n",
      "CDs_and_Vinyl_5.json.gz\n",
      "http://deepyeti.ucsd.edu/jianmo/amazon/categoryFilesSmall/Cell_Phones_and_Accessories_5.json.gz\n",
      "Cell_Phones_and_Accessories_5.json.gz\n",
      "http://deepyeti.ucsd.edu/jianmo/amazon/categoryFilesSmall/Clothing_Shoes_and_Jewelry_5.json.gz\n",
      "Clothing_Shoes_and_Jewelry_5.json.gz\n",
      "http://deepyeti.ucsd.edu/jianmo/amazon/categoryFilesSmall/Digital_Music_5.json.gz\n",
      "Digital_Music_5.json.gz\n",
      "http://deepyeti.ucsd.edu/jianmo/amazon/categoryFilesSmall/Electronics_5.json.gz\n",
      "Electronics_5.json.gz\n",
      "http://deepyeti.ucsd.edu/jianmo/amazon/categoryFilesSmall/Gift_Cards_5.json.gz\n",
      "Gift_Cards_5.json.gz\n",
      "http://deepyeti.ucsd.edu/jianmo/amazon/categoryFilesSmall/Grocery_and_Gourmet_Food_5.json.gz\n",
      "Grocery_and_Gourmet_Food_5.json.gz\n",
      "http://deepyeti.ucsd.edu/jianmo/amazon/categoryFilesSmall/Home_and_Kitchen_5.json.gz\n",
      "Home_and_Kitchen_5.json.gz\n",
      "http://deepyeti.ucsd.edu/jianmo/amazon/categoryFilesSmall/Industrial_and_Scientific_5.json.gz\n",
      "Industrial_and_Scientific_5.json.gz\n",
      "http://deepyeti.ucsd.edu/jianmo/amazon/categoryFilesSmall/Kindle_Store_5.json.gz\n",
      "Kindle_Store_5.json.gz\n",
      "http://deepyeti.ucsd.edu/jianmo/amazon/categoryFilesSmall/Luxury_Beauty_5.json.gz\n",
      "Luxury_Beauty_5.json.gz\n",
      "http://deepyeti.ucsd.edu/jianmo/amazon/categoryFilesSmall/Magazine_Subscriptions_5.json.gz\n",
      "Magazine_Subscriptions_5.json.gz\n",
      "http://deepyeti.ucsd.edu/jianmo/amazon/categoryFilesSmall/Movies_and_TV_5.json.gz\n",
      "Movies_and_TV_5.json.gz\n",
      "http://deepyeti.ucsd.edu/jianmo/amazon/categoryFilesSmall/Musical_Instruments_5.json.gz\n",
      "Musical_Instruments_5.json.gz\n",
      "http://deepyeti.ucsd.edu/jianmo/amazon/categoryFilesSmall/Office_Products_5.json.gz\n",
      "Office_Products_5.json.gz\n",
      "http://deepyeti.ucsd.edu/jianmo/amazon/categoryFilesSmall/Patio_Lawn_and_Garden_5.json.gz\n",
      "Patio_Lawn_and_Garden_5.json.gz\n",
      "http://deepyeti.ucsd.edu/jianmo/amazon/categoryFilesSmall/Pet_Supplies_5.json.gz\n",
      "Pet_Supplies_5.json.gz\n",
      "http://deepyeti.ucsd.edu/jianmo/amazon/categoryFilesSmall/Prime_Pantry_5.json.gz\n",
      "Prime_Pantry_5.json.gz\n",
      "http://deepyeti.ucsd.edu/jianmo/amazon/categoryFilesSmall/Software_5.json.gz\n",
      "Software_5.json.gz\n",
      "http://deepyeti.ucsd.edu/jianmo/amazon/categoryFilesSmall/Sports_and_Outdoors_5.json.gz\n",
      "Sports_and_Outdoors_5.json.gz\n"
     ]
    }
   ],
   "source": [
    "# URL to scrape to get files to download\n",
    "url = \"https://nijianmo.github.io/amazon/index.html\"\n",
    "html = requests.get(url)\n",
    "\n",
    "if html.ok:\n",
    "    soup = BeautifulSoup(html.content, 'html.parser')  \n",
    "\n",
    "output_final = []\n",
    "files = []\n",
    "links = soup.find_all('a',string='5-core')#.find('5-core')#.find_all('td', id='5-core')\n",
    "for link in links:\n",
    "    url = link.get('href')\n",
    "    file = url.split('/')[-1]\n",
    "    print(url)\n",
    "    print(url.split('/')[-1])\n",
    "    spark.sparkContext.addFile(url)\n",
    "    files.append(file)\n",
    "\n",
    "for file in files:    \n",
    "    df = spark.read.json(\"file://\"+SparkFiles.get(file),schema)\n",
    "    df = df.dropDuplicates() \n",
    "    df = df.withColumn('review_wordCount', f.size(f.split(f.col('reviewText'), ' ')))\n",
    "    df.registerTempTable(\"dataframe\")\n",
    "    sql_script = f\"\"\"select \n",
    "              '{file}' as category,\n",
    "              asin || '-' || reviewerID || row_number() OVER (PARTITION BY asin, reviewerID ORDER BY unixReviewTime asc) as review_ID,\n",
    "              asin as product_ID,\n",
    "              reviewerID as reviewer_ID,\n",
    "              overall as rating_out_of_5,\n",
    "              summary as review_summary,\n",
    "              reviewText as review_text,\n",
    "              review_wordCount as review_word_count,     \n",
    "              '{url}' as source_url\n",
    "            from dataframe\"\"\"\n",
    "    output = spark.sql(sql_script)\n",
    "    if not output_final:\n",
    "        output_final = output\n",
    "        print(f'loaded first file: {file}')\n",
    "    else:\n",
    "        output_final = output_final.union(output)\n",
    "        print(f'appended to df with: {file}')  "
   ]
  },
  {
   "cell_type": "code",
   "execution_count": null,
   "id": "2d811149-950b-4a43-9b86-d4f3a717c090",
   "metadata": {},
   "outputs": [],
   "source": [
    "output_final.show(5)"
   ]
  },
  {
   "cell_type": "code",
   "execution_count": null,
   "id": "f0dbd9bd-8519-4523-9b53-b59eccd2033b",
   "metadata": {},
   "outputs": [],
   "source": [
    "output_final.write \\\n",
    "  .format(\"bigquery\") \\\n",
    "  .option(\"temporaryGcsBucket\",gcs_bucket) \\\n",
    "  .mode(\"append\") \\\n",
    "  .save(\"amazon_reviews.categoryFilesSmall\")"
   ]
  },
  {
   "cell_type": "code",
   "execution_count": null,
   "id": "e9de3fa7",
   "metadata": {},
   "outputs": [],
   "source": [
    "# spark.sparkContext._jvm.scala.util.Properties.versionString()"
   ]
  },
  {
   "cell_type": "code",
   "execution_count": null,
   "id": "45d0bcb7",
   "metadata": {},
   "outputs": [],
   "source": [
    "category = ['AMAZON_FASHION','All_Beauty']"
   ]
  },
  {
   "cell_type": "code",
   "execution_count": null,
   "id": "4aacc6e5",
   "metadata": {},
   "outputs": [],
   "source": [
    "url = f\"http://deepyeti.ucsd.edu/jianmo/amazon/categoryFilesSmall/{category[1]}_5.json.gz\""
   ]
  },
  {
   "cell_type": "code",
   "execution_count": null,
   "id": "ff611a5f",
   "metadata": {},
   "outputs": [],
   "source": [
    "spark.sparkContext.addFile(url)"
   ]
  },
  {
   "cell_type": "code",
   "execution_count": null,
   "id": "97d48f00",
   "metadata": {},
   "outputs": [],
   "source": [
    "df = spark.read.json(\"file://\"+SparkFiles.get(f\"{category[1]}_5.json.gz\"))"
   ]
  },
  {
   "cell_type": "code",
   "execution_count": null,
   "id": "bd97e7c6",
   "metadata": {},
   "outputs": [],
   "source": [
    "df.printSchema()"
   ]
  },
  {
   "cell_type": "code",
   "execution_count": null,
   "id": "8a482818-9422-4b81-b6c0-f5e2402986a5",
   "metadata": {},
   "outputs": [],
   "source": [
    "from pyspark.sql.types import StructType,StructField, StringType, DoubleType, BooleanType, ArrayType, LongType"
   ]
  },
  {
   "cell_type": "code",
   "execution_count": null,
   "id": "18d2ec5c-5299-4e1b-ada3-8d642ff33040",
   "metadata": {},
   "outputs": [],
   "source": [
    "schema = StructType([ \n",
    "    StructField(\"asin\",StringType(),True), \n",
    "    StructField(\"image\",ArrayType(StringType()),True), \n",
    "    StructField(\"overall\",DoubleType(),True),\n",
    "    StructField(\"reviewText\",StringType(),True),\n",
    "    StructField(\"reviewTime\",StringType(),True),\n",
    "    StructField(\"reviewerID\",StringType(),True),\n",
    "    StructField(\"reviewerName\",StringType(),True),\n",
    "    StructField(\"summary\",StringType(),True),\n",
    "    StructField(\"unixReviewedTime\",LongType(),True),\n",
    "    StructField(\"verified\",BooleanType(),True),\n",
    "    StructField(\"vote\",StringType(),True)\n",
    "  ])"
   ]
  },
  {
   "cell_type": "code",
   "execution_count": null,
   "id": "48eb6fcb",
   "metadata": {},
   "outputs": [],
   "source": [
    "df.show(10)"
   ]
  },
  {
   "cell_type": "code",
   "execution_count": null,
   "id": "025b3e95",
   "metadata": {},
   "outputs": [],
   "source": [
    "df = df.dropDuplicates() "
   ]
  },
  {
   "cell_type": "code",
   "execution_count": null,
   "id": "b1dd368e",
   "metadata": {},
   "outputs": [],
   "source": [
    "df = df.dropDuplicates() \n",
    "df = df.withColumn('review_wordCount', f.size(f.split(f.col('reviewText'), ' ')))\n",
    "df.registerTempTable(\"dataframe\")\n",
    "sql_script = f\"\"\"select \n",
    "          '{category[1]}' as category,\n",
    "          asin || '-' || reviewerID || row_number() OVER (PARTITION BY asin, reviewerID ORDER BY unixReviewTime asc) as review_ID,\n",
    "          asin as product_ID,\n",
    "          reviewerID as reviewer_ID,\n",
    "          overall as rating_out_of_5,\n",
    "          summary as review_summary,\n",
    "          reviewText as review_text,\n",
    "          review_wordCount as review_word_count,     \n",
    "          '{url}' as source_url\n",
    "        from dataframe\"\"\"\n",
    "output = spark.sql(sql_script)\n"
   ]
  },
  {
   "cell_type": "code",
   "execution_count": null,
   "id": "c32bef10",
   "metadata": {},
   "outputs": [],
   "source": [
    "df.registerTempTable(\"dataframe\")"
   ]
  },
  {
   "cell_type": "code",
   "execution_count": null,
   "id": "8a4d7edf",
   "metadata": {},
   "outputs": [],
   "source": [
    "sql_script = f\"\"\"select \n",
    "          '{category[1]}' as category,\n",
    "          asin || '-' || reviewerID || row_number() OVER (PARTITION BY asin, reviewerID ORDER BY unixReviewTime asc) as review_ID,\n",
    "          asin as product_ID,\n",
    "          reviewerID as reviewer_ID,\n",
    "          overall as rating_out_of_5,\n",
    "          summary as review_summary,\n",
    "          reviewText as review_text,\n",
    "          review_wordCount as review_word_count,     \n",
    "          '{url}' as source_url\n",
    "        from dataframe\"\"\""
   ]
  },
  {
   "cell_type": "code",
   "execution_count": null,
   "id": "97d3541c",
   "metadata": {},
   "outputs": [],
   "source": [
    "output = spark.sql(sql_script)"
   ]
  },
  {
   "cell_type": "code",
   "execution_count": null,
   "id": "693d375a",
   "metadata": {},
   "outputs": [],
   "source": [
    "output.show(3)"
   ]
  },
  {
   "cell_type": "code",
   "execution_count": null,
   "id": "df91a1f8",
   "metadata": {},
   "outputs": [],
   "source": [
    "# Update to your GCS bucket\n",
    "gcs_bucket = f'amazon_reviews_bucket'\n",
    "\n",
    "gcs_filepath = f'gs://amazon_reviews_bucket'"
   ]
  },
  {
   "cell_type": "code",
   "execution_count": null,
   "id": "8fb59b96",
   "metadata": {},
   "outputs": [],
   "source": [
    "output.write \\\n",
    "  .format(\"bigquery\") \\\n",
    "  .option(\"temporaryGcsBucket\",gcs_bucket) \\\n",
    "  .mode(\"append\") \\\n",
    "  .save(\"amazon_reviews.categoryFilesSmall\")"
   ]
  },
  {
   "cell_type": "code",
   "execution_count": null,
   "id": "dd32dbfa",
   "metadata": {},
   "outputs": [],
   "source": [
    "# output.write.partitionBy(\"product_ID\").csv(gcs_filepath)"
   ]
  },
  {
   "cell_type": "code",
   "execution_count": null,
   "id": "e575b2d2",
   "metadata": {},
   "outputs": [],
   "source": [
    "# output.write \\\n",
    "#   .mode('overwrite') \\\n",
    "#   .csv(gcs_filepath)"
   ]
  },
  {
   "cell_type": "code",
   "execution_count": null,
   "id": "b8905636",
   "metadata": {},
   "outputs": [],
   "source": [
    "import wget"
   ]
  },
  {
   "cell_type": "code",
   "execution_count": null,
   "id": "8eabf8d2",
   "metadata": {},
   "outputs": [],
   "source": [
    "wget.download(url)"
   ]
  },
  {
   "cell_type": "code",
   "execution_count": null,
   "id": "14e5db2d-88d9-4ab5-b96c-aea1295be3a4",
   "metadata": {},
   "outputs": [],
   "source": [
    "import gzip\n",
    "import shutil\n",
    "with gzip.open(file, 'rb') as f_in:\n",
    "    with open('.'.join(file.split('.')[0:2]), 'wb') as f_out:\n",
    "        shutil.copyfileobj(f_in, f_out)"
   ]
  },
  {
   "cell_type": "code",
   "execution_count": null,
   "id": "3b135020-09a1-431a-85e1-88a299bd4d38",
   "metadata": {},
   "outputs": [],
   "source": [
    "file"
   ]
  },
  {
   "cell_type": "code",
   "execution_count": null,
   "id": "cf057800-8f13-41a1-9319-33e32330d87a",
   "metadata": {},
   "outputs": [],
   "source": [
    "'.'.join(file.split('.')[0:2])"
   ]
  },
  {
   "cell_type": "code",
   "execution_count": null,
   "id": "10eaf0e2-cad9-43e0-b52a-66b11d1bf10e",
   "metadata": {},
   "outputs": [],
   "source": []
  },
  {
   "cell_type": "code",
   "execution_count": null,
   "id": "00752702-5021-4876-8f52-4582e8745153",
   "metadata": {},
   "outputs": [],
   "source": []
  },
  {
   "cell_type": "code",
   "execution_count": null,
   "id": "a487051e-ac42-4309-83f0-b868b2106d59",
   "metadata": {},
   "outputs": [],
   "source": [
    "df = spark.read.json(\"file://\"+SparkFiles.get(file),schema)"
   ]
  },
  {
   "cell_type": "code",
   "execution_count": null,
   "id": "6fce71b7-5e6c-45b7-ace5-161c70add331",
   "metadata": {},
   "outputs": [],
   "source": [
    "schema = StructType([ \n",
    "    StructField(\"overall\",IntegerType(),True), \n",
    "    StructField(\"vote\",IntegerType(),True), \n",
    "    StructField(\"verified\",BooleanType(),True)\n",
    "  ])"
   ]
  },
  {
   "cell_type": "code",
   "execution_count": null,
   "id": "30c7c46f-7ccb-44f1-9aea-aeab41967b0e",
   "metadata": {},
   "outputs": [],
   "source": [
    "df.show()"
   ]
  },
  {
   "cell_type": "code",
   "execution_count": null,
   "id": "e740718d-ffa8-4f44-a857-0524de156316",
   "metadata": {},
   "outputs": [],
   "source": []
  }
 ],
 "metadata": {
  "kernelspec": {
   "display_name": "Python 3",
   "language": "python",
   "name": "python3"
  },
  "language_info": {
   "codemirror_mode": {
    "name": "ipython",
    "version": 3
   },
   "file_extension": ".py",
   "mimetype": "text/x-python",
   "name": "python",
   "nbconvert_exporter": "python",
   "pygments_lexer": "ipython3",
   "version": "3.8.5"
  }
 },
 "nbformat": 4,
 "nbformat_minor": 5
}